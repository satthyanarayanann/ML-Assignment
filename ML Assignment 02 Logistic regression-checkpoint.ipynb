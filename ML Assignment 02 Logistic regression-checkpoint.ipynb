{
 "cells": [
  {
   "cell_type": "code",
   "execution_count": 138,
   "metadata": {},
   "outputs": [],
   "source": [
    "import numpy as np\n",
    "import warnings\n",
    "import pandas as pd\n",
    "import matplotlib.pyplot as plt\n",
    "import seaborn as sns\n",
    "%matplotlib inline"
   ]
  },
  {
   "cell_type": "code",
   "execution_count": 178,
   "metadata": {},
   "outputs": [
    {
     "data": {
      "text/html": [
       "<div>\n",
       "<style scoped>\n",
       "    .dataframe tbody tr th:only-of-type {\n",
       "        vertical-align: middle;\n",
       "    }\n",
       "\n",
       "    .dataframe tbody tr th {\n",
       "        vertical-align: top;\n",
       "    }\n",
       "\n",
       "    .dataframe thead th {\n",
       "        text-align: right;\n",
       "    }\n",
       "</style>\n",
       "<table border=\"1\" class=\"dataframe\">\n",
       "  <thead>\n",
       "    <tr style=\"text-align: right;\">\n",
       "      <th></th>\n",
       "      <th>Pregnancies</th>\n",
       "      <th>Glucose</th>\n",
       "      <th>BloodPressure</th>\n",
       "      <th>SkinThickness</th>\n",
       "      <th>Insulin</th>\n",
       "      <th>BMI</th>\n",
       "      <th>DiabetesPedigreeFunction</th>\n",
       "      <th>Age</th>\n",
       "      <th>Outcome</th>\n",
       "    </tr>\n",
       "  </thead>\n",
       "  <tbody>\n",
       "    <tr>\n",
       "      <th>0</th>\n",
       "      <td>6</td>\n",
       "      <td>148.0</td>\n",
       "      <td>72.0</td>\n",
       "      <td>35.0</td>\n",
       "      <td>NaN</td>\n",
       "      <td>33.6</td>\n",
       "      <td>0.627</td>\n",
       "      <td>5</td>\n",
       "      <td>1</td>\n",
       "    </tr>\n",
       "    <tr>\n",
       "      <th>1</th>\n",
       "      <td>1</td>\n",
       "      <td>85.0</td>\n",
       "      <td>66.0</td>\n",
       "      <td>29.0</td>\n",
       "      <td>NaN</td>\n",
       "      <td>26.6</td>\n",
       "      <td>0.351</td>\n",
       "      <td>31</td>\n",
       "      <td>0</td>\n",
       "    </tr>\n",
       "    <tr>\n",
       "      <th>2</th>\n",
       "      <td>8</td>\n",
       "      <td>183.0</td>\n",
       "      <td>64.0</td>\n",
       "      <td>NaN</td>\n",
       "      <td>NaN</td>\n",
       "      <td>23.3</td>\n",
       "      <td>0.672</td>\n",
       "      <td>32</td>\n",
       "      <td>1</td>\n",
       "    </tr>\n",
       "    <tr>\n",
       "      <th>3</th>\n",
       "      <td>1</td>\n",
       "      <td>89.0</td>\n",
       "      <td>66.0</td>\n",
       "      <td>23.0</td>\n",
       "      <td>94.0</td>\n",
       "      <td>28.1</td>\n",
       "      <td>0.167</td>\n",
       "      <td>21</td>\n",
       "      <td>0</td>\n",
       "    </tr>\n",
       "    <tr>\n",
       "      <th>4</th>\n",
       "      <td>0</td>\n",
       "      <td>137.0</td>\n",
       "      <td>4.0</td>\n",
       "      <td>35.0</td>\n",
       "      <td>168.0</td>\n",
       "      <td>43.1</td>\n",
       "      <td>2.288</td>\n",
       "      <td>33</td>\n",
       "      <td>1</td>\n",
       "    </tr>\n",
       "    <tr>\n",
       "      <th>...</th>\n",
       "      <td>...</td>\n",
       "      <td>...</td>\n",
       "      <td>...</td>\n",
       "      <td>...</td>\n",
       "      <td>...</td>\n",
       "      <td>...</td>\n",
       "      <td>...</td>\n",
       "      <td>...</td>\n",
       "      <td>...</td>\n",
       "    </tr>\n",
       "    <tr>\n",
       "      <th>72</th>\n",
       "      <td>13</td>\n",
       "      <td>126.0</td>\n",
       "      <td>9.0</td>\n",
       "      <td>NaN</td>\n",
       "      <td>NaN</td>\n",
       "      <td>43.4</td>\n",
       "      <td>0.583</td>\n",
       "      <td>42</td>\n",
       "      <td>1</td>\n",
       "    </tr>\n",
       "    <tr>\n",
       "      <th>73</th>\n",
       "      <td>4</td>\n",
       "      <td>129.0</td>\n",
       "      <td>86.0</td>\n",
       "      <td>2.0</td>\n",
       "      <td>27.0</td>\n",
       "      <td>35.1</td>\n",
       "      <td>0.231</td>\n",
       "      <td>23</td>\n",
       "      <td>0</td>\n",
       "    </tr>\n",
       "    <tr>\n",
       "      <th>74</th>\n",
       "      <td>1</td>\n",
       "      <td>79.0</td>\n",
       "      <td>75.0</td>\n",
       "      <td>3.0</td>\n",
       "      <td>NaN</td>\n",
       "      <td>32.0</td>\n",
       "      <td>0.396</td>\n",
       "      <td>22</td>\n",
       "      <td>0</td>\n",
       "    </tr>\n",
       "    <tr>\n",
       "      <th>75</th>\n",
       "      <td>1</td>\n",
       "      <td>NaN</td>\n",
       "      <td>48.0</td>\n",
       "      <td>2.0</td>\n",
       "      <td>NaN</td>\n",
       "      <td>24.7</td>\n",
       "      <td>0.140</td>\n",
       "      <td>22</td>\n",
       "      <td>0</td>\n",
       "    </tr>\n",
       "    <tr>\n",
       "      <th>76</th>\n",
       "      <td>7</td>\n",
       "      <td>62.0</td>\n",
       "      <td>78.0</td>\n",
       "      <td>NaN</td>\n",
       "      <td>NaN</td>\n",
       "      <td>32.6</td>\n",
       "      <td>0.391</td>\n",
       "      <td>41</td>\n",
       "      <td>0</td>\n",
       "    </tr>\n",
       "  </tbody>\n",
       "</table>\n",
       "<p>77 rows × 9 columns</p>\n",
       "</div>"
      ],
      "text/plain": [
       "    Pregnancies  Glucose  BloodPressure  SkinThickness  Insulin   BMI  \\\n",
       "0             6    148.0           72.0           35.0      NaN  33.6   \n",
       "1             1     85.0           66.0           29.0      NaN  26.6   \n",
       "2             8    183.0           64.0            NaN      NaN  23.3   \n",
       "3             1     89.0           66.0           23.0     94.0  28.1   \n",
       "4             0    137.0            4.0           35.0    168.0  43.1   \n",
       "..          ...      ...            ...            ...      ...   ...   \n",
       "72           13    126.0            9.0            NaN      NaN  43.4   \n",
       "73            4    129.0           86.0            2.0     27.0  35.1   \n",
       "74            1     79.0           75.0            3.0      NaN  32.0   \n",
       "75            1      NaN           48.0            2.0      NaN  24.7   \n",
       "76            7     62.0           78.0            NaN      NaN  32.6   \n",
       "\n",
       "    DiabetesPedigreeFunction  Age  Outcome  \n",
       "0                      0.627    5        1  \n",
       "1                      0.351   31        0  \n",
       "2                      0.672   32        1  \n",
       "3                      0.167   21        0  \n",
       "4                      2.288   33        1  \n",
       "..                       ...  ...      ...  \n",
       "72                     0.583   42        1  \n",
       "73                     0.231   23        0  \n",
       "74                     0.396   22        0  \n",
       "75                     0.140   22        0  \n",
       "76                     0.391   41        0  \n",
       "\n",
       "[77 rows x 9 columns]"
      ]
     },
     "execution_count": 178,
     "metadata": {},
     "output_type": "execute_result"
    }
   ],
   "source": [
    "pimadata=pd.read_table(r'C:\\Users\\YB998DQ\\Downloads\\diabetes_null.csv',sep=',')\n",
    "pimadata.head(77)"
   ]
  },
  {
   "cell_type": "code",
   "execution_count": 179,
   "metadata": {},
   "outputs": [
    {
     "name": "stdout",
     "output_type": "stream",
     "text": [
      "<class 'pandas.core.frame.DataFrame'>\n",
      "RangeIndex: 768 entries, 0 to 767\n",
      "Data columns (total 9 columns):\n",
      " #   Column                    Non-Null Count  Dtype  \n",
      "---  ------                    --------------  -----  \n",
      " 0   Pregnancies               768 non-null    int64  \n",
      " 1   Glucose                   763 non-null    float64\n",
      " 2   BloodPressure             733 non-null    float64\n",
      " 3   SkinThickness             541 non-null    float64\n",
      " 4   Insulin                   394 non-null    float64\n",
      " 5   BMI                       757 non-null    float64\n",
      " 6   DiabetesPedigreeFunction  768 non-null    float64\n",
      " 7   Age                       768 non-null    int64  \n",
      " 8   Outcome                   768 non-null    int64  \n",
      "dtypes: float64(6), int64(3)\n",
      "memory usage: 54.1 KB\n"
     ]
    }
   ],
   "source": [
    "pimadata.info()"
   ]
  },
  {
   "cell_type": "code",
   "execution_count": 180,
   "metadata": {},
   "outputs": [
    {
     "data": {
      "text/plain": [
       "Pregnancies                   0\n",
       "Glucose                       5\n",
       "BloodPressure                35\n",
       "SkinThickness               227\n",
       "Insulin                     374\n",
       "BMI                          11\n",
       "DiabetesPedigreeFunction      0\n",
       "Age                           0\n",
       "Outcome                       0\n",
       "dtype: int64"
      ]
     },
     "execution_count": 180,
     "metadata": {},
     "output_type": "execute_result"
    }
   ],
   "source": [
    "pimadata.isnull().sum()"
   ]
  },
  {
   "cell_type": "code",
   "execution_count": 288,
   "metadata": {},
   "outputs": [
    {
     "data": {
      "text/plain": [
       "Pregnancies                   6.750000\n",
       "Glucose                     138.250000\n",
       "BloodPressure                59.125000\n",
       "SkinThickness                34.500000\n",
       "Insulin                     105.500000\n",
       "BMI                          31.225000\n",
       "DiabetesPedigreeFunction      0.470125\n",
       "Age                           5.000000\n",
       "Outcome                       0.625000\n",
       "dtype: float64"
      ]
     },
     "execution_count": 288,
     "metadata": {},
     "output_type": "execute_result"
    }
   ],
   "source": [
    "pimadata[pimadata['Age']==5].mean()"
   ]
  },
  {
   "cell_type": "code",
   "execution_count": 183,
   "metadata": {},
   "outputs": [],
   "source": [
    "def inputGlucose(cols):\n",
    "    Glucose = cols[0]\n",
    "    Age = cols[1]\n",
    "    if pd.isnull(Glucose):\n",
    "        if Age==22:\n",
    "            return 88\n",
    "        elif Age==21:\n",
    "            return 89\n",
    "        elif Age==37:\n",
    "            return 118\n",
    "        else:\n",
    "            return 108\n",
    "    else:\n",
    "        return Glucose"
   ]
  },
  {
   "cell_type": "code",
   "execution_count": 185,
   "metadata": {},
   "outputs": [],
   "source": [
    "pimadata['Glucose']= pimadata[['Glucose','Age']].apply(inputGlucose,axis=1)"
   ]
  },
  {
   "cell_type": "code",
   "execution_count": 187,
   "metadata": {},
   "outputs": [
    {
     "data": {
      "text/plain": [
       "Pregnancies                   0\n",
       "Glucose                       0\n",
       "BloodPressure                35\n",
       "SkinThickness               227\n",
       "Insulin                     374\n",
       "BMI                          11\n",
       "DiabetesPedigreeFunction      0\n",
       "Age                           0\n",
       "Outcome                       0\n",
       "dtype: int64"
      ]
     },
     "execution_count": 187,
     "metadata": {},
     "output_type": "execute_result"
    }
   ],
   "source": [
    "pimadata.isnull().sum()"
   ]
  },
  {
   "cell_type": "code",
   "execution_count": 217,
   "metadata": {},
   "outputs": [],
   "source": [
    "def inputBloodPressure(cols):\n",
    "    BloodPressure = cols[0]\n",
    "    Age = cols[1]\n",
    "    if pd.isnull(BloodPressure):\n",
    "        if Age==72:\n",
    "            return 68.0\n",
    "        else:\n",
    "            return 56.2\n",
    "    else:\n",
    "        return BloodPressure"
   ]
  },
  {
   "cell_type": "code",
   "execution_count": 218,
   "metadata": {},
   "outputs": [],
   "source": [
    "pimadata['BloodPressure']= pimadata[['BloodPressure','Age']].apply(inputBloodPressure,axis=1)"
   ]
  },
  {
   "cell_type": "code",
   "execution_count": 219,
   "metadata": {},
   "outputs": [
    {
     "data": {
      "text/plain": [
       "Pregnancies                   0\n",
       "Glucose                       0\n",
       "BloodPressure                 0\n",
       "SkinThickness               227\n",
       "Insulin                     374\n",
       "BMI                          11\n",
       "DiabetesPedigreeFunction      0\n",
       "Age                           0\n",
       "Outcome                       0\n",
       "dtype: int64"
      ]
     },
     "execution_count": 219,
     "metadata": {},
     "output_type": "execute_result"
    }
   ],
   "source": [
    "pimadata.isnull().sum()"
   ]
  },
  {
   "cell_type": "code",
   "execution_count": 228,
   "metadata": {},
   "outputs": [],
   "source": [
    "def inputBMI(cols):\n",
    "    BMI = cols[0]\n",
    "    Age = cols[1]\n",
    "    if pd.isnull(BMI):\n",
    "        if Age==69:\n",
    "            return 26.8\n",
    "        else:\n",
    "            return 30.6\n",
    "    else:\n",
    "        return BMI"
   ]
  },
  {
   "cell_type": "code",
   "execution_count": 229,
   "metadata": {},
   "outputs": [],
   "source": [
    "pimadata['BMI']= pimadata[['BMI','Age']].apply(inputBMI,axis=1)"
   ]
  },
  {
   "cell_type": "code",
   "execution_count": 230,
   "metadata": {},
   "outputs": [
    {
     "data": {
      "text/plain": [
       "Pregnancies                   0\n",
       "Glucose                       0\n",
       "BloodPressure                 0\n",
       "SkinThickness               227\n",
       "Insulin                     374\n",
       "BMI                           0\n",
       "DiabetesPedigreeFunction      0\n",
       "Age                           0\n",
       "Outcome                       0\n",
       "dtype: int64"
      ]
     },
     "execution_count": 230,
     "metadata": {},
     "output_type": "execute_result"
    }
   ],
   "source": [
    "pimadata.isnull().sum()"
   ]
  },
  {
   "cell_type": "code",
   "execution_count": 266,
   "metadata": {},
   "outputs": [],
   "source": [
    "def inputSkinThickness(cols):\n",
    "    SkinThickness = cols[0]\n",
    "    Age = cols[1]\n",
    "    if pd.isnull(SkinThickness):\n",
    "        if Age==all([3,4,5,6]):\n",
    "            return 32\n",
    "        elif Age==all([21,22,23,24,25]):\n",
    "            return 23.5\n",
    "        elif Age==all([26,27,28,29]):\n",
    "            return 24.4\n",
    "        elif Age==all([31,32,33,34,35]):\n",
    "            return 28.5\n",
    "        elif Age==all([36,37,38,39]):\n",
    "            return 13.4\n",
    "        elif Age==all([41,42,43,44,45]):\n",
    "            return 29.6\n",
    "        elif Age==all([46,47,48,49]):\n",
    "            return 20.3\n",
    "        elif Age==all([51,52,53,54,55]):\n",
    "            return 35.3\n",
    "        elif Age==all([57,58,59]):\n",
    "            return 33.8\n",
    "        elif Age==all([61,62,63,64,65]):\n",
    "            return 31.3\n",
    "        elif Age==all([66,67,68,69]):\n",
    "            return 37\n",
    "        else:\n",
    "            return 37\n",
    "    else:\n",
    "        return SkinThickness"
   ]
  },
  {
   "cell_type": "code",
   "execution_count": 267,
   "metadata": {},
   "outputs": [],
   "source": [
    "pimadata['SkinThickness']= pimadata[['SkinThickness','Age']].apply(inputSkinThickness,axis=1)"
   ]
  },
  {
   "cell_type": "code",
   "execution_count": 268,
   "metadata": {},
   "outputs": [
    {
     "data": {
      "text/plain": [
       "Pregnancies                   0\n",
       "Glucose                       0\n",
       "BloodPressure                 0\n",
       "SkinThickness                 0\n",
       "Insulin                     374\n",
       "BMI                           0\n",
       "DiabetesPedigreeFunction      0\n",
       "Age                           0\n",
       "Outcome                       0\n",
       "dtype: int64"
      ]
     },
     "execution_count": 268,
     "metadata": {},
     "output_type": "execute_result"
    }
   ],
   "source": [
    "pimadata.isnull().sum()"
   ]
  },
  {
   "cell_type": "code",
   "execution_count": 289,
   "metadata": {},
   "outputs": [],
   "source": [
    "def inputInsulin(cols):\n",
    "    Insulin = cols[0]\n",
    "    Age = cols[1]\n",
    "    if pd.isnull(Insulin):\n",
    "        if Age==all([3,4,5,6,7]):\n",
    "            return 105.5\n",
    "        elif Age==all([21,22,23,24,25]):\n",
    "            return 90.4\n",
    "        elif Age==all([26,27,28,29]):\n",
    "            return 128.5\n",
    "        elif Age==all([31,32,33,34,35]):\n",
    "            return 132.3\n",
    "        elif Age==all([36,37,38,39]):\n",
    "            return 124.7\n",
    "        elif Age==all([41,42,43,44,45]):\n",
    "            return 84.8\n",
    "        elif Age==all([46,47,48,49]):\n",
    "            return 41.7\n",
    "        elif Age==all([51,52,53,54,55]):\n",
    "            return 245.0\n",
    "        elif Age==all([56,57,58,59]):\n",
    "            return 219.5\n",
    "        elif Age==all([61,62,63,64,65]):\n",
    "            return 18\n",
    "        elif Age==all([66,67,68,69]):\n",
    "            return 20\n",
    "        else:\n",
    "            return 20\n",
    "    else:\n",
    "        return Insulin"
   ]
  },
  {
   "cell_type": "code",
   "execution_count": 290,
   "metadata": {},
   "outputs": [],
   "source": [
    "pimadata['Insulin']= pimadata[['Insulin','Age']].apply(inputInsulin,axis=1)"
   ]
  },
  {
   "cell_type": "code",
   "execution_count": 291,
   "metadata": {},
   "outputs": [
    {
     "data": {
      "text/plain": [
       "Pregnancies                 0\n",
       "Glucose                     0\n",
       "BloodPressure               0\n",
       "SkinThickness               0\n",
       "Insulin                     0\n",
       "BMI                         0\n",
       "DiabetesPedigreeFunction    0\n",
       "Age                         0\n",
       "Outcome                     0\n",
       "dtype: int64"
      ]
     },
     "execution_count": 291,
     "metadata": {},
     "output_type": "execute_result"
    }
   ],
   "source": [
    "pimadata.isnull().sum()"
   ]
  },
  {
   "cell_type": "code",
   "execution_count": 292,
   "metadata": {},
   "outputs": [],
   "source": [
    "pimadata.to_excel (r'C:\\Users\\YB998DQ\\.ipynb_checkpoints\\export_pimadata.xlsx', index = False, header=True)"
   ]
  },
  {
   "cell_type": "markdown",
   "metadata": {},
   "source": [
    "# Droping data's where pregnency has some values when age less than/equal to 7"
   ]
  },
  {
   "cell_type": "code",
   "execution_count": 303,
   "metadata": {},
   "outputs": [],
   "source": [
    "pimadata = pimadata.drop(pimadata[(pimadata.Age <= 7) & (pimadata.Pregnancies > 0)].index)"
   ]
  },
  {
   "cell_type": "code",
   "execution_count": 304,
   "metadata": {},
   "outputs": [
    {
     "name": "stdout",
     "output_type": "stream",
     "text": [
      "<class 'pandas.core.frame.DataFrame'>\n",
      "Int64Index: 721 entries, 1 to 767\n",
      "Data columns (total 9 columns):\n",
      " #   Column                    Non-Null Count  Dtype  \n",
      "---  ------                    --------------  -----  \n",
      " 0   Pregnancies               721 non-null    int64  \n",
      " 1   Glucose                   721 non-null    float64\n",
      " 2   BloodPressure             721 non-null    float64\n",
      " 3   SkinThickness             721 non-null    float64\n",
      " 4   Insulin                   721 non-null    float64\n",
      " 5   BMI                       721 non-null    float64\n",
      " 6   DiabetesPedigreeFunction  721 non-null    float64\n",
      " 7   Age                       721 non-null    int64  \n",
      " 8   Outcome                   721 non-null    int64  \n",
      "dtypes: float64(6), int64(3)\n",
      "memory usage: 56.3 KB\n"
     ]
    }
   ],
   "source": [
    "pimadata.info()"
   ]
  },
  {
   "cell_type": "code",
   "execution_count": 305,
   "metadata": {},
   "outputs": [],
   "source": [
    "x = pimadata.drop(['Outcome'],axis=1)\n",
    "y = pimadata['Outcome']"
   ]
  },
  {
   "cell_type": "code",
   "execution_count": 306,
   "metadata": {},
   "outputs": [],
   "source": [
    "from sklearn.model_selection import train_test_split"
   ]
  },
  {
   "cell_type": "code",
   "execution_count": 308,
   "metadata": {},
   "outputs": [],
   "source": [
    "x_train, x_test, y_train, y_test = train_test_split(\n",
    "     x, y, test_size=0.2, random_state=101)"
   ]
  },
  {
   "cell_type": "code",
   "execution_count": 309,
   "metadata": {},
   "outputs": [],
   "source": [
    "from sklearn.linear_model import LogisticRegression"
   ]
  },
  {
   "cell_type": "code",
   "execution_count": 310,
   "metadata": {},
   "outputs": [],
   "source": [
    "log = LogisticRegression()"
   ]
  },
  {
   "cell_type": "code",
   "execution_count": 311,
   "metadata": {},
   "outputs": [
    {
     "name": "stderr",
     "output_type": "stream",
     "text": [
      "C:\\Users\\YB998DQ\\Anaconda3\\lib\\site-packages\\sklearn\\linear_model\\_logistic.py:940: ConvergenceWarning: lbfgs failed to converge (status=1):\n",
      "STOP: TOTAL NO. of ITERATIONS REACHED LIMIT.\n",
      "\n",
      "Increase the number of iterations (max_iter) or scale the data as shown in:\n",
      "    https://scikit-learn.org/stable/modules/preprocessing.html\n",
      "Please also refer to the documentation for alternative solver options:\n",
      "    https://scikit-learn.org/stable/modules/linear_model.html#logistic-regression\n",
      "  extra_warning_msg=_LOGISTIC_SOLVER_CONVERGENCE_MSG)\n"
     ]
    },
    {
     "data": {
      "text/plain": [
       "LogisticRegression(C=1.0, class_weight=None, dual=False, fit_intercept=True,\n",
       "                   intercept_scaling=1, l1_ratio=None, max_iter=100,\n",
       "                   multi_class='auto', n_jobs=None, penalty='l2',\n",
       "                   random_state=None, solver='lbfgs', tol=0.0001, verbose=0,\n",
       "                   warm_start=False)"
      ]
     },
     "execution_count": 311,
     "metadata": {},
     "output_type": "execute_result"
    }
   ],
   "source": [
    "log.fit(x_train,y_train)"
   ]
  },
  {
   "cell_type": "code",
   "execution_count": 312,
   "metadata": {},
   "outputs": [
    {
     "data": {
      "text/plain": [
       "array([-5.62904323])"
      ]
     },
     "execution_count": 312,
     "metadata": {},
     "output_type": "execute_result"
    }
   ],
   "source": [
    "log.intercept_"
   ]
  },
  {
   "cell_type": "code",
   "execution_count": 314,
   "metadata": {},
   "outputs": [
    {
     "data": {
      "text/plain": [
       "array([[0.11929844, 0.01342395, 0.00261878, 0.01942473, 0.00230811,\n",
       "        0.03741936, 0.84831797, 0.01909077]])"
      ]
     },
     "execution_count": 314,
     "metadata": {},
     "output_type": "execute_result"
    }
   ],
   "source": [
    "log.coef_"
   ]
  },
  {
   "cell_type": "code",
   "execution_count": 315,
   "metadata": {},
   "outputs": [],
   "source": [
    "predict = log.predict(x_test)"
   ]
  },
  {
   "cell_type": "code",
   "execution_count": 316,
   "metadata": {},
   "outputs": [],
   "source": [
    "from sklearn.metrics import accuracy_score, classification_report, confusion_matrix,roc_auc_score"
   ]
  },
  {
   "cell_type": "code",
   "execution_count": 317,
   "metadata": {},
   "outputs": [
    {
     "name": "stdout",
     "output_type": "stream",
     "text": [
      "0.7034482758620689\n"
     ]
    }
   ],
   "source": [
    "print(accuracy_score(y_test,predict))"
   ]
  },
  {
   "cell_type": "code",
   "execution_count": 318,
   "metadata": {},
   "outputs": [
    {
     "name": "stdout",
     "output_type": "stream",
     "text": [
      "[[77 15]\n",
      " [28 25]]\n"
     ]
    }
   ],
   "source": [
    "print(confusion_matrix(y_test,predict))"
   ]
  },
  {
   "cell_type": "code",
   "execution_count": 319,
   "metadata": {},
   "outputs": [
    {
     "name": "stdout",
     "output_type": "stream",
     "text": [
      "              precision    recall  f1-score   support\n",
      "\n",
      "           0       0.73      0.84      0.78        92\n",
      "           1       0.62      0.47      0.54        53\n",
      "\n",
      "    accuracy                           0.70       145\n",
      "   macro avg       0.68      0.65      0.66       145\n",
      "weighted avg       0.69      0.70      0.69       145\n",
      "\n"
     ]
    }
   ],
   "source": [
    "print(classification_report(y_test,predict))"
   ]
  },
  {
   "cell_type": "code",
   "execution_count": 320,
   "metadata": {},
   "outputs": [
    {
     "name": "stdout",
     "output_type": "stream",
     "text": [
      "0.6543273174733387\n"
     ]
    }
   ],
   "source": [
    "print(roc_auc_score(y_test,predict))"
   ]
  },
  {
   "cell_type": "code",
   "execution_count": 322,
   "metadata": {},
   "outputs": [],
   "source": [
    "pred_prob = log.predict_proba(x_test)"
   ]
  },
  {
   "cell_type": "code",
   "execution_count": 323,
   "metadata": {},
   "outputs": [
    {
     "data": {
      "text/plain": [
       "array([0.39396161, 0.86034924, 0.93670217, 0.36876354, 0.42348302,\n",
       "       0.31724909, 0.94470701, 0.96231915, 0.394479  , 0.73519597,\n",
       "       0.35582305, 0.50650347, 0.85697162, 0.7254098 , 0.1667384 ,\n",
       "       0.57469888, 0.71212088, 0.83802093, 0.59233479, 0.24288786,\n",
       "       0.7579802 , 0.94896145, 0.96410242, 0.5573162 , 0.7825265 ,\n",
       "       0.90028174, 0.46949006, 0.53384983, 0.91685455, 0.93141085,\n",
       "       0.95244182, 0.11888104, 0.95339746, 0.65697982, 0.93078297,\n",
       "       0.81686707, 0.80719598, 0.95121828, 0.12332962, 0.807231  ,\n",
       "       0.71509621, 0.84375545, 0.66131164, 0.74631929, 0.9356244 ,\n",
       "       0.89144027, 0.55189901, 0.90125946, 0.51042273, 0.78720032,\n",
       "       0.34620805, 0.4149505 , 0.83942175, 0.84920865, 0.59587264,\n",
       "       0.75105506, 0.63641664, 0.55600807, 0.63882497, 0.88047037,\n",
       "       0.3757012 , 0.78997103, 0.6761324 , 0.55814455, 0.71667544,\n",
       "       0.62068881, 0.27089272, 0.36551765, 0.94325978, 0.5304141 ,\n",
       "       0.79157231, 0.60071799, 0.27084157, 0.92683557, 0.86236505,\n",
       "       0.65824628, 0.40072648, 0.68069364, 0.70746543, 0.63870887,\n",
       "       0.87256983, 0.91824919, 0.82464246, 0.35337645, 0.83013685,\n",
       "       0.24608202, 0.42959748, 0.75936222, 0.8836801 , 0.32930896,\n",
       "       0.62187967, 0.33988747, 0.77377104, 0.6887121 , 0.9337093 ,\n",
       "       0.07150358, 0.83626736, 0.49921818, 0.2756355 , 0.66719141,\n",
       "       0.33570417, 0.93430034, 0.93904508, 0.61159919, 0.7899856 ,\n",
       "       0.8681138 , 0.65222839, 0.73594541, 0.8457579 , 0.46357762,\n",
       "       0.76509065, 0.73837427, 0.58607682, 0.37448045, 0.71043418,\n",
       "       0.94397194, 0.89475232, 0.59759562, 0.62641085, 0.43696334,\n",
       "       0.38338732, 0.8814435 , 0.41142973, 0.62624598, 0.12909752,\n",
       "       0.55907588, 0.61583822, 0.46341366, 0.04748824, 0.68237352,\n",
       "       0.59185234, 0.89075172, 0.5279356 , 0.27983343, 0.47834104,\n",
       "       0.94407422, 0.3370137 , 0.46830045, 0.88182639, 0.86031562,\n",
       "       0.87700837, 0.21751785, 0.56683108, 0.82047043, 0.88650655])"
      ]
     },
     "execution_count": 323,
     "metadata": {},
     "output_type": "execute_result"
    }
   ],
   "source": [
    "pred_prob[::,0]"
   ]
  },
  {
   "cell_type": "code",
   "execution_count": 324,
   "metadata": {},
   "outputs": [
    {
     "data": {
      "text/plain": [
       "array([1, 0, 0, 1, 1, 1, 0, 0, 1, 0, 1, 0, 0, 0, 1, 0, 0, 0, 0, 1, 0, 0,\n",
       "       0, 0, 0, 0, 1, 0, 0, 0, 0, 1, 0, 0, 0, 0, 0, 0, 1, 0, 0, 0, 0, 0,\n",
       "       0, 0, 0, 0, 0, 0, 1, 1, 0, 0, 0, 0, 0, 0, 0, 0, 1, 0, 0, 0, 0, 0,\n",
       "       1, 1, 0, 0, 0, 0, 1, 0, 0, 0, 1, 0, 0, 0, 0, 0, 0, 1, 0, 1, 1, 0,\n",
       "       0, 1, 0, 1, 0, 0, 0, 1, 0, 1, 1, 0, 1, 0, 0, 0, 0, 0, 0, 0, 0, 1,\n",
       "       0, 0, 0, 1, 0, 0, 0, 0, 0, 1, 1, 0, 1, 0, 1, 0, 0, 1, 1, 0, 0, 0,\n",
       "       0, 1, 1, 0, 1, 1, 0, 0, 0, 1, 0, 0, 0], dtype=int64)"
      ]
     },
     "execution_count": 324,
     "metadata": {},
     "output_type": "execute_result"
    }
   ],
   "source": [
    "predict"
   ]
  },
  {
   "cell_type": "code",
   "execution_count": 325,
   "metadata": {},
   "outputs": [
    {
     "data": {
      "text/plain": [
       "array([[0.39396161, 0.60603839],\n",
       "       [0.86034924, 0.13965076],\n",
       "       [0.93670217, 0.06329783],\n",
       "       [0.36876354, 0.63123646],\n",
       "       [0.42348302, 0.57651698],\n",
       "       [0.31724909, 0.68275091],\n",
       "       [0.94470701, 0.05529299],\n",
       "       [0.96231915, 0.03768085],\n",
       "       [0.394479  , 0.605521  ],\n",
       "       [0.73519597, 0.26480403],\n",
       "       [0.35582305, 0.64417695],\n",
       "       [0.50650347, 0.49349653],\n",
       "       [0.85697162, 0.14302838],\n",
       "       [0.7254098 , 0.2745902 ],\n",
       "       [0.1667384 , 0.8332616 ],\n",
       "       [0.57469888, 0.42530112],\n",
       "       [0.71212088, 0.28787912],\n",
       "       [0.83802093, 0.16197907],\n",
       "       [0.59233479, 0.40766521],\n",
       "       [0.24288786, 0.75711214],\n",
       "       [0.7579802 , 0.2420198 ],\n",
       "       [0.94896145, 0.05103855],\n",
       "       [0.96410242, 0.03589758],\n",
       "       [0.5573162 , 0.4426838 ],\n",
       "       [0.7825265 , 0.2174735 ],\n",
       "       [0.90028174, 0.09971826],\n",
       "       [0.46949006, 0.53050994],\n",
       "       [0.53384983, 0.46615017],\n",
       "       [0.91685455, 0.08314545],\n",
       "       [0.93141085, 0.06858915],\n",
       "       [0.95244182, 0.04755818],\n",
       "       [0.11888104, 0.88111896],\n",
       "       [0.95339746, 0.04660254],\n",
       "       [0.65697982, 0.34302018],\n",
       "       [0.93078297, 0.06921703],\n",
       "       [0.81686707, 0.18313293],\n",
       "       [0.80719598, 0.19280402],\n",
       "       [0.95121828, 0.04878172],\n",
       "       [0.12332962, 0.87667038],\n",
       "       [0.807231  , 0.192769  ],\n",
       "       [0.71509621, 0.28490379],\n",
       "       [0.84375545, 0.15624455],\n",
       "       [0.66131164, 0.33868836],\n",
       "       [0.74631929, 0.25368071],\n",
       "       [0.9356244 , 0.0643756 ],\n",
       "       [0.89144027, 0.10855973],\n",
       "       [0.55189901, 0.44810099],\n",
       "       [0.90125946, 0.09874054],\n",
       "       [0.51042273, 0.48957727],\n",
       "       [0.78720032, 0.21279968],\n",
       "       [0.34620805, 0.65379195],\n",
       "       [0.4149505 , 0.5850495 ],\n",
       "       [0.83942175, 0.16057825],\n",
       "       [0.84920865, 0.15079135],\n",
       "       [0.59587264, 0.40412736],\n",
       "       [0.75105506, 0.24894494],\n",
       "       [0.63641664, 0.36358336],\n",
       "       [0.55600807, 0.44399193],\n",
       "       [0.63882497, 0.36117503],\n",
       "       [0.88047037, 0.11952963],\n",
       "       [0.3757012 , 0.6242988 ],\n",
       "       [0.78997103, 0.21002897],\n",
       "       [0.6761324 , 0.3238676 ],\n",
       "       [0.55814455, 0.44185545],\n",
       "       [0.71667544, 0.28332456],\n",
       "       [0.62068881, 0.37931119],\n",
       "       [0.27089272, 0.72910728],\n",
       "       [0.36551765, 0.63448235],\n",
       "       [0.94325978, 0.05674022],\n",
       "       [0.5304141 , 0.4695859 ],\n",
       "       [0.79157231, 0.20842769],\n",
       "       [0.60071799, 0.39928201],\n",
       "       [0.27084157, 0.72915843],\n",
       "       [0.92683557, 0.07316443],\n",
       "       [0.86236505, 0.13763495],\n",
       "       [0.65824628, 0.34175372],\n",
       "       [0.40072648, 0.59927352],\n",
       "       [0.68069364, 0.31930636],\n",
       "       [0.70746543, 0.29253457],\n",
       "       [0.63870887, 0.36129113],\n",
       "       [0.87256983, 0.12743017],\n",
       "       [0.91824919, 0.08175081],\n",
       "       [0.82464246, 0.17535754],\n",
       "       [0.35337645, 0.64662355],\n",
       "       [0.83013685, 0.16986315],\n",
       "       [0.24608202, 0.75391798],\n",
       "       [0.42959748, 0.57040252],\n",
       "       [0.75936222, 0.24063778],\n",
       "       [0.8836801 , 0.1163199 ],\n",
       "       [0.32930896, 0.67069104],\n",
       "       [0.62187967, 0.37812033],\n",
       "       [0.33988747, 0.66011253],\n",
       "       [0.77377104, 0.22622896],\n",
       "       [0.6887121 , 0.3112879 ],\n",
       "       [0.9337093 , 0.0662907 ],\n",
       "       [0.07150358, 0.92849642],\n",
       "       [0.83626736, 0.16373264],\n",
       "       [0.49921818, 0.50078182],\n",
       "       [0.2756355 , 0.7243645 ],\n",
       "       [0.66719141, 0.33280859],\n",
       "       [0.33570417, 0.66429583],\n",
       "       [0.93430034, 0.06569966],\n",
       "       [0.93904508, 0.06095492],\n",
       "       [0.61159919, 0.38840081],\n",
       "       [0.7899856 , 0.2100144 ],\n",
       "       [0.8681138 , 0.1318862 ],\n",
       "       [0.65222839, 0.34777161],\n",
       "       [0.73594541, 0.26405459],\n",
       "       [0.8457579 , 0.1542421 ],\n",
       "       [0.46357762, 0.53642238],\n",
       "       [0.76509065, 0.23490935],\n",
       "       [0.73837427, 0.26162573],\n",
       "       [0.58607682, 0.41392318],\n",
       "       [0.37448045, 0.62551955],\n",
       "       [0.71043418, 0.28956582],\n",
       "       [0.94397194, 0.05602806],\n",
       "       [0.89475232, 0.10524768],\n",
       "       [0.59759562, 0.40240438],\n",
       "       [0.62641085, 0.37358915],\n",
       "       [0.43696334, 0.56303666],\n",
       "       [0.38338732, 0.61661268],\n",
       "       [0.8814435 , 0.1185565 ],\n",
       "       [0.41142973, 0.58857027],\n",
       "       [0.62624598, 0.37375402],\n",
       "       [0.12909752, 0.87090248],\n",
       "       [0.55907588, 0.44092412],\n",
       "       [0.61583822, 0.38416178],\n",
       "       [0.46341366, 0.53658634],\n",
       "       [0.04748824, 0.95251176],\n",
       "       [0.68237352, 0.31762648],\n",
       "       [0.59185234, 0.40814766],\n",
       "       [0.89075172, 0.10924828],\n",
       "       [0.5279356 , 0.4720644 ],\n",
       "       [0.27983343, 0.72016657],\n",
       "       [0.47834104, 0.52165896],\n",
       "       [0.94407422, 0.05592578],\n",
       "       [0.3370137 , 0.6629863 ],\n",
       "       [0.46830045, 0.53169955],\n",
       "       [0.88182639, 0.11817361],\n",
       "       [0.86031562, 0.13968438],\n",
       "       [0.87700837, 0.12299163],\n",
       "       [0.21751785, 0.78248215],\n",
       "       [0.56683108, 0.43316892],\n",
       "       [0.82047043, 0.17952957],\n",
       "       [0.88650655, 0.11349345]])"
      ]
     },
     "execution_count": 325,
     "metadata": {},
     "output_type": "execute_result"
    }
   ],
   "source": [
    "pred_prob"
   ]
  },
  {
   "cell_type": "code",
   "execution_count": 326,
   "metadata": {},
   "outputs": [],
   "source": [
    "x1 = pimadata.drop(['Outcome','Pregnancies'],axis=1)\n",
    "y1 = pimadata['Outcome']"
   ]
  },
  {
   "cell_type": "code",
   "execution_count": 334,
   "metadata": {},
   "outputs": [],
   "source": [
    "x1_train, x1_test, y1_train, y1_test = train_test_split(\n",
    "     x1, y1, test_size=0.2, random_state=101)"
   ]
  },
  {
   "cell_type": "code",
   "execution_count": 335,
   "metadata": {},
   "outputs": [],
   "source": [
    "log1 = LogisticRegression()"
   ]
  },
  {
   "cell_type": "code",
   "execution_count": 337,
   "metadata": {},
   "outputs": [
    {
     "data": {
      "text/plain": [
       "LogisticRegression(C=1.0, class_weight=None, dual=False, fit_intercept=True,\n",
       "                   intercept_scaling=1, l1_ratio=None, max_iter=100,\n",
       "                   multi_class='auto', n_jobs=None, penalty='l2',\n",
       "                   random_state=None, solver='lbfgs', tol=0.0001, verbose=0,\n",
       "                   warm_start=False)"
      ]
     },
     "execution_count": 337,
     "metadata": {},
     "output_type": "execute_result"
    }
   ],
   "source": [
    "log1.fit(x1_train,y1_train)"
   ]
  },
  {
   "cell_type": "code",
   "execution_count": 338,
   "metadata": {},
   "outputs": [
    {
     "data": {
      "text/plain": [
       "array([-5.59179599])"
      ]
     },
     "execution_count": 338,
     "metadata": {},
     "output_type": "execute_result"
    }
   ],
   "source": [
    "log1.intercept_"
   ]
  },
  {
   "cell_type": "code",
   "execution_count": 339,
   "metadata": {},
   "outputs": [],
   "source": [
    "predict = log1.predict(x1_test)"
   ]
  },
  {
   "cell_type": "code",
   "execution_count": 340,
   "metadata": {},
   "outputs": [
    {
     "name": "stdout",
     "output_type": "stream",
     "text": [
      "0.6896551724137931\n"
     ]
    }
   ],
   "source": [
    "print(accuracy_score(y1_test,predict))"
   ]
  },
  {
   "cell_type": "code",
   "execution_count": 341,
   "metadata": {},
   "outputs": [],
   "source": [
    "x2 = pimadata.drop(['Outcome','Pregnancies', 'DiabetesPedigreeFunction'],axis=1)\n",
    "y2 = pimadata['Outcome']\n",
    "x2_train, x2_test, y2_train, y2_test = train_test_split(\n",
    "     x2, y2, test_size=0.2, random_state=101)\n",
    "log2 = LogisticRegression()\n",
    "log2.fit(x2_train,y2_train)\n",
    "predict = log2.predict(x2_test)"
   ]
  },
  {
   "cell_type": "code",
   "execution_count": 342,
   "metadata": {},
   "outputs": [
    {
     "name": "stdout",
     "output_type": "stream",
     "text": [
      "0.7034482758620689\n"
     ]
    }
   ],
   "source": [
    "print(accuracy_score(y2_test,predict))"
   ]
  },
  {
   "cell_type": "code",
   "execution_count": null,
   "metadata": {},
   "outputs": [],
   "source": []
  },
  {
   "cell_type": "code",
   "execution_count": null,
   "metadata": {},
   "outputs": [],
   "source": []
  },
  {
   "cell_type": "code",
   "execution_count": null,
   "metadata": {},
   "outputs": [],
   "source": []
  },
  {
   "cell_type": "code",
   "execution_count": null,
   "metadata": {},
   "outputs": [],
   "source": []
  },
  {
   "cell_type": "code",
   "execution_count": null,
   "metadata": {},
   "outputs": [],
   "source": []
  },
  {
   "cell_type": "code",
   "execution_count": null,
   "metadata": {},
   "outputs": [],
   "source": []
  },
  {
   "cell_type": "code",
   "execution_count": 31,
   "metadata": {},
   "outputs": [],
   "source": [
    "#pimadata.drop(pimadata[pimadata['Glucose']<90].index, inplace = True)"
   ]
  },
  {
   "cell_type": "code",
   "execution_count": 197,
   "metadata": {},
   "outputs": [],
   "source": [
    "#pimadata[pimadata['Age']==21].mean()"
   ]
  },
  {
   "cell_type": "code",
   "execution_count": 190,
   "metadata": {},
   "outputs": [],
   "source": [
    "#if pimadata[(pimadata['Age']==22) & (pimadata['Glucose']=='NaN')]:\n",
    "    #pimadata['Glucose'] = 88"
   ]
  },
  {
   "cell_type": "code",
   "execution_count": 191,
   "metadata": {},
   "outputs": [],
   "source": [
    "#pimadata['Glucose']=pimadata['Glucose'].fillna(0)\n",
    "#pimadata.head(77)"
   ]
  },
  {
   "cell_type": "code",
   "execution_count": 192,
   "metadata": {},
   "outputs": [],
   "source": [
    "#pimadata['Glucose'] = pimadata['Glucose'].astype(int)"
   ]
  },
  {
   "cell_type": "code",
   "execution_count": 194,
   "metadata": {},
   "outputs": [],
   "source": [
    "#pimadata.head(77)"
   ]
  },
  {
   "cell_type": "code",
   "execution_count": 195,
   "metadata": {},
   "outputs": [],
   "source": [
    "#pimadata.info()"
   ]
  },
  {
   "cell_type": "code",
   "execution_count": 189,
   "metadata": {},
   "outputs": [],
   "source": [
    "#pimadata[(pimadata['Age']==22) & (pimadata['Glucose']== 0)]"
   ]
  },
  {
   "cell_type": "code",
   "execution_count": 188,
   "metadata": {},
   "outputs": [],
   "source": [
    "#if pimadata[(pimadata['Age']==22) & (pimadata['Glucose']== 0)]:\n",
    "   # pimadata.['Glucose'] = 88"
   ]
  },
  {
   "cell_type": "code",
   "execution_count": null,
   "metadata": {},
   "outputs": [],
   "source": []
  }
 ],
 "metadata": {
  "kernelspec": {
   "display_name": "Python 3",
   "language": "python",
   "name": "python3"
  },
  "language_info": {
   "codemirror_mode": {
    "name": "ipython",
    "version": 3
   },
   "file_extension": ".py",
   "mimetype": "text/x-python",
   "name": "python",
   "nbconvert_exporter": "python",
   "pygments_lexer": "ipython3",
   "version": "3.7.6"
  }
 },
 "nbformat": 4,
 "nbformat_minor": 4
}
